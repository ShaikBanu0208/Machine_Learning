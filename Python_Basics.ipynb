{
  "nbformat": 4,
  "nbformat_minor": 0,
  "metadata": {
    "colab": {
      "provenance": [],
      "authorship_tag": "ABX9TyNj7PrSlsfl0yyGf4JVP5Om",
      "include_colab_link": true
    },
    "kernelspec": {
      "name": "python3",
      "display_name": "Python 3"
    },
    "language_info": {
      "name": "python"
    }
  },
  "cells": [
    {
      "cell_type": "markdown",
      "metadata": {
        "id": "view-in-github",
        "colab_type": "text"
      },
      "source": [
        "<a href=\"https://colab.research.google.com/github/ShaikBanu0208/Machine_Learning/blob/main/Python_Basics.ipynb\" target=\"_parent\"><img src=\"https://colab.research.google.com/assets/colab-badge.svg\" alt=\"Open In Colab\"/></a>"
      ]
    },
    {
      "cell_type": "code",
      "execution_count": null,
      "metadata": {
        "id": "exrflZBoqXBW"
      },
      "outputs": [],
      "source": []
    },
    {
      "cell_type": "markdown",
      "source": [
        "Python print function"
      ],
      "metadata": {
        "id": "Zwkuw01MqmbQ"
      }
    },
    {
      "cell_type": "code",
      "source": [
        "print(\"Machine Learning\")"
      ],
      "metadata": {
        "colab": {
          "base_uri": "https://localhost:8080/"
        },
        "id": "_q7AYHE7qp-o",
        "outputId": "ca427498-a7e7-4911-db72-9e94cf7a37fd"
      },
      "execution_count": null,
      "outputs": [
        {
          "output_type": "stream",
          "name": "stdout",
          "text": [
            "Machine Learning\n"
          ]
        }
      ]
    },
    {
      "cell_type": "code",
      "source": [
        "print(\"Machine Learning \"+\"Projects\")"
      ],
      "metadata": {
        "colab": {
          "base_uri": "https://localhost:8080/"
        },
        "id": "AO9DfQiPq0Ml",
        "outputId": "34c35f94-cf30-4a3a-d4c4-da118459dd1a"
      },
      "execution_count": null,
      "outputs": [
        {
          "output_type": "stream",
          "name": "stdout",
          "text": [
            "Machine Learning Projects\n"
          ]
        }
      ]
    },
    {
      "cell_type": "code",
      "source": [
        "print(8+3)"
      ],
      "metadata": {
        "colab": {
          "base_uri": "https://localhost:8080/"
        },
        "id": "eIawtxDorbBx",
        "outputId": "29d388ef-343c-4aef-9759-c6e5d26e29a8"
      },
      "execution_count": null,
      "outputs": [
        {
          "output_type": "stream",
          "name": "stdout",
          "text": [
            "11\n"
          ]
        }
      ]
    },
    {
      "cell_type": "markdown",
      "source": [
        "Basic DataTypes\n",
        "1. int\n",
        "2. float\n",
        "3. str"
      ],
      "metadata": {
        "id": "uWtUV2PBsHIq"
      }
    },
    {
      "cell_type": "code",
      "source": [
        "type(8)"
      ],
      "metadata": {
        "colab": {
          "base_uri": "https://localhost:8080/"
        },
        "id": "PtnHQ-C7rdei",
        "outputId": "40380bae-e917-4512-906c-8c36495a833f"
      },
      "execution_count": null,
      "outputs": [
        {
          "output_type": "execute_result",
          "data": {
            "text/plain": [
              "int"
            ]
          },
          "metadata": {},
          "execution_count": 6
        }
      ]
    },
    {
      "cell_type": "code",
      "source": [
        "a=8\n",
        "type(a)"
      ],
      "metadata": {
        "colab": {
          "base_uri": "https://localhost:8080/"
        },
        "id": "SVUiGr3vsWpk",
        "outputId": "c0db5075-52f1-4e75-dc8c-879b914f1be9"
      },
      "execution_count": null,
      "outputs": [
        {
          "output_type": "execute_result",
          "data": {
            "text/plain": [
              "int"
            ]
          },
          "metadata": {},
          "execution_count": 7
        }
      ]
    },
    {
      "cell_type": "code",
      "source": [
        "type(5.3)\n",
        "type(\"english\")"
      ],
      "metadata": {
        "colab": {
          "base_uri": "https://localhost:8080/"
        },
        "id": "fkTBoqIOsdiH",
        "outputId": "e57315ea-9f26-42fc-8e30-ffa59b9ef511"
      },
      "execution_count": null,
      "outputs": [
        {
          "output_type": "execute_result",
          "data": {
            "text/plain": [
              "str"
            ]
          },
          "metadata": {},
          "execution_count": 8
        }
      ]
    },
    {
      "cell_type": "code",
      "source": [
        "type(5.3)"
      ],
      "metadata": {
        "colab": {
          "base_uri": "https://localhost:8080/"
        },
        "id": "3h3_8hkqsoMH",
        "outputId": "fc1a0a7a-789a-4545-c914-33a3978a7125"
      },
      "execution_count": null,
      "outputs": [
        {
          "output_type": "execute_result",
          "data": {
            "text/plain": [
              "float"
            ]
          },
          "metadata": {},
          "execution_count": 9
        }
      ]
    },
    {
      "cell_type": "markdown",
      "source": [
        "Constants & Variables"
      ],
      "metadata": {
        "id": "lI7ZrjVw26Kx"
      }
    },
    {
      "cell_type": "code",
      "source": [
        "var=\"hello\"\n",
        "print(var)"
      ],
      "metadata": {
        "colab": {
          "base_uri": "https://localhost:8080/"
        },
        "id": "cDM_5a3F29Fo",
        "outputId": "48bb6e30-b783-4c9f-95ff-ee65e0a10c31"
      },
      "execution_count": null,
      "outputs": [
        {
          "output_type": "stream",
          "name": "stdout",
          "text": [
            "hello\n"
          ]
        }
      ]
    },
    {
      "cell_type": "code",
      "source": [
        "a,b=2,3\n",
        "print(a)\n",
        "print(b)"
      ],
      "metadata": {
        "colab": {
          "base_uri": "https://localhost:8080/"
        },
        "id": "MzNnjtR134oo",
        "outputId": "17cbd7ef-766d-4634-8fe5-4a16b5298341"
      },
      "execution_count": null,
      "outputs": [
        {
          "output_type": "stream",
          "name": "stdout",
          "text": [
            "2\n",
            "3\n"
          ]
        }
      ]
    },
    {
      "cell_type": "code",
      "source": [
        "a=int(input())\n",
        "b=int(input())\n",
        "print(a+b)"
      ],
      "metadata": {
        "colab": {
          "base_uri": "https://localhost:8080/"
        },
        "id": "XGHWD1TN5uj3",
        "outputId": "62552663-c20d-4022-a584-72354e3ef415"
      },
      "execution_count": null,
      "outputs": [
        {
          "output_type": "stream",
          "name": "stdout",
          "text": [
            "10\n",
            "10\n",
            "20\n"
          ]
        }
      ]
    },
    {
      "cell_type": "code",
      "source": [
        "a=input(\"Enter a\")\n",
        "b=input(\"Enter b\")\n",
        "print(a+b)\n"
      ],
      "metadata": {
        "colab": {
          "base_uri": "https://localhost:8080/"
        },
        "id": "cpWl3tSD6uMk",
        "outputId": "9592b23d-6c21-41cb-edc8-0a43cc9d04bc"
      },
      "execution_count": null,
      "outputs": [
        {
          "output_type": "stream",
          "name": "stdout",
          "text": [
            "Enter a10\n",
            "Enter b10\n",
            "1010\n"
          ]
        }
      ]
    },
    {
      "cell_type": "code",
      "source": [
        "# integer datatype\n",
        "a=8\n",
        "print(a)\n",
        "type(a)"
      ],
      "metadata": {
        "colab": {
          "base_uri": "https://localhost:8080/"
        },
        "id": "neVB3kLVG240",
        "outputId": "5c9eb793-1f14-4f4e-ec37-3cabb2db58d0"
      },
      "execution_count": null,
      "outputs": [
        {
          "output_type": "stream",
          "name": "stdout",
          "text": [
            "8\n"
          ]
        },
        {
          "output_type": "execute_result",
          "data": {
            "text/plain": [
              "int"
            ]
          },
          "metadata": {},
          "execution_count": 14
        }
      ]
    },
    {
      "cell_type": "code",
      "source": [
        "# floating point\n",
        "b=8.5\n",
        "print(b)\n",
        "type(b)"
      ],
      "metadata": {
        "colab": {
          "base_uri": "https://localhost:8080/"
        },
        "id": "W4A2-rzeG_EP",
        "outputId": "628b0ee5-33c3-4666-a92c-fd8c6491c17e"
      },
      "execution_count": null,
      "outputs": [
        {
          "output_type": "stream",
          "name": "stdout",
          "text": [
            "8.5\n"
          ]
        },
        {
          "output_type": "execute_result",
          "data": {
            "text/plain": [
              "float"
            ]
          },
          "metadata": {},
          "execution_count": 15
        }
      ]
    },
    {
      "cell_type": "code",
      "source": [
        "# complex numbers\n",
        "c=1+2j\n",
        "print(c)\n",
        "type(c)"
      ],
      "metadata": {
        "colab": {
          "base_uri": "https://localhost:8080/"
        },
        "id": "fxnY4eWAHPwa",
        "outputId": "7b36544b-c963-45b6-cb10-aff93038ff26"
      },
      "execution_count": null,
      "outputs": [
        {
          "output_type": "stream",
          "name": "stdout",
          "text": [
            "(1+2j)\n"
          ]
        },
        {
          "output_type": "execute_result",
          "data": {
            "text/plain": [
              "complex"
            ]
          },
          "metadata": {},
          "execution_count": 16
        }
      ]
    },
    {
      "cell_type": "code",
      "source": [
        "print(\"Hello\"*5)"
      ],
      "metadata": {
        "colab": {
          "base_uri": "https://localhost:8080/"
        },
        "id": "k6Mi2YQJHmtz",
        "outputId": "8b590530-27a1-4a3d-8422-e796b24ae12c"
      },
      "execution_count": null,
      "outputs": [
        {
          "output_type": "stream",
          "name": "stdout",
          "text": [
            "HelloHelloHelloHelloHello\n"
          ]
        }
      ]
    },
    {
      "cell_type": "code",
      "source": [
        "#slicing\n",
        "a=\"Programming\"\n",
        "print(a[1:5])"
      ],
      "metadata": {
        "colab": {
          "base_uri": "https://localhost:8080/"
        },
        "id": "3Vj7KicwKIHi",
        "outputId": "253e5fa6-e57e-40de-cf45-4faea8aed205"
      },
      "execution_count": null,
      "outputs": [
        {
          "output_type": "stream",
          "name": "stdout",
          "text": [
            "rogr\n"
          ]
        }
      ]
    },
    {
      "cell_type": "code",
      "source": [
        "#stepping\n",
        "a=\"Programming\"\n",
        "print(a[1:5:2])\n"
      ],
      "metadata": {
        "colab": {
          "base_uri": "https://localhost:8080/"
        },
        "id": "qSjUc1_EMBXd",
        "outputId": "0cf87b8b-b5d3-41a0-d2a6-9a2510f1e810"
      },
      "execution_count": null,
      "outputs": [
        {
          "output_type": "stream",
          "name": "stdout",
          "text": [
            "rg\n"
          ]
        }
      ]
    },
    {
      "cell_type": "markdown",
      "source": [
        "List"
      ],
      "metadata": {
        "id": "Lkli6_ADbnTZ"
      }
    },
    {
      "cell_type": "code",
      "source": [
        "List_1=[]\n",
        "print(List_1)"
      ],
      "metadata": {
        "colab": {
          "base_uri": "https://localhost:8080/"
        },
        "id": "pmBF9P5RblzT",
        "outputId": "8ef26187-2e22-4e62-a79a-1f26fc3c52e9"
      },
      "execution_count": null,
      "outputs": [
        {
          "output_type": "stream",
          "name": "stdout",
          "text": [
            "[]\n"
          ]
        }
      ]
    },
    {
      "cell_type": "code",
      "source": [
        "List_1.append(1)\n",
        "List_1.append(5.5)\n",
        "List_1.append(\"Hello\")\n",
        "print(List_1)"
      ],
      "metadata": {
        "colab": {
          "base_uri": "https://localhost:8080/"
        },
        "id": "BGvHrY6obyV7",
        "outputId": "c67486d5-62e7-4d30-dbbb-90316188da62"
      },
      "execution_count": null,
      "outputs": [
        {
          "output_type": "stream",
          "name": "stdout",
          "text": [
            "[1, 5.5, 'Hello']\n"
          ]
        }
      ]
    },
    {
      "cell_type": "code",
      "source": [
        "print(List_1[2])"
      ],
      "metadata": {
        "colab": {
          "base_uri": "https://localhost:8080/"
        },
        "id": "3c4PK4sycAQO",
        "outputId": "3d029f89-0a1e-458f-ced7-a17999d071db"
      },
      "execution_count": null,
      "outputs": [
        {
          "output_type": "stream",
          "name": "stdout",
          "text": [
            "Hello\n"
          ]
        }
      ]
    },
    {
      "cell_type": "code",
      "source": [
        "print(List_1[0:2])"
      ],
      "metadata": {
        "colab": {
          "base_uri": "https://localhost:8080/"
        },
        "id": "bIyscvgXcKqA",
        "outputId": "3caf1645-c0c7-4611-8f27-7a12c668142d"
      },
      "execution_count": null,
      "outputs": [
        {
          "output_type": "stream",
          "name": "stdout",
          "text": [
            "[1, 5.5]\n"
          ]
        }
      ]
    },
    {
      "cell_type": "code",
      "source": [
        "print(len(List_1))"
      ],
      "metadata": {
        "colab": {
          "base_uri": "https://localhost:8080/"
        },
        "id": "wiEuDpG7cRUT",
        "outputId": "36e16e13-e04b-4945-84b5-a866ea45fbed"
      },
      "execution_count": null,
      "outputs": [
        {
          "output_type": "stream",
          "name": "stdout",
          "text": [
            "3\n"
          ]
        }
      ]
    },
    {
      "cell_type": "code",
      "source": [
        "del List_1[2]"
      ],
      "metadata": {
        "id": "4zGjI75OcZib"
      },
      "execution_count": null,
      "outputs": []
    },
    {
      "cell_type": "code",
      "source": [
        "print(List_1)"
      ],
      "metadata": {
        "colab": {
          "base_uri": "https://localhost:8080/"
        },
        "id": "FdF8R3e4cfI2",
        "outputId": "1cbd3dd7-9e52-4853-a782-19b11215a453"
      },
      "execution_count": null,
      "outputs": [
        {
          "output_type": "stream",
          "name": "stdout",
          "text": [
            "[1, 5.5]\n"
          ]
        }
      ]
    },
    {
      "cell_type": "code",
      "source": [
        "List_2=[1,5.5]\n",
        "List=List_1+List_2\n",
        "print(List)"
      ],
      "metadata": {
        "colab": {
          "base_uri": "https://localhost:8080/"
        },
        "id": "d0QpOAtTcicX",
        "outputId": "0387513e-bfda-4d38-99d1-2cfb8731a1cc"
      },
      "execution_count": null,
      "outputs": [
        {
          "output_type": "stream",
          "name": "stdout",
          "text": [
            "[1, 5.5, 1, 5.5]\n"
          ]
        }
      ]
    },
    {
      "cell_type": "markdown",
      "source": [
        "Tuple"
      ],
      "metadata": {
        "id": "pFEYwJv-eTdb"
      }
    },
    {
      "cell_type": "code",
      "source": [
        "tuple_1=(1,2,3,4)\n",
        "print(tuple_1)\n",
        "type(tuple_1)"
      ],
      "metadata": {
        "colab": {
          "base_uri": "https://localhost:8080/"
        },
        "id": "msm4P8bccrZn",
        "outputId": "05362d58-1020-4a0c-8f32-35d17768d7fb"
      },
      "execution_count": null,
      "outputs": [
        {
          "output_type": "stream",
          "name": "stdout",
          "text": [
            "(1, 2, 3, 4)\n"
          ]
        },
        {
          "output_type": "execute_result",
          "data": {
            "text/plain": [
              "tuple"
            ]
          },
          "metadata": {},
          "execution_count": 10
        }
      ]
    },
    {
      "cell_type": "code",
      "source": [
        "tuple_2=(1,5,5,\"Machine Learning\")\n",
        "print(tuple_2)"
      ],
      "metadata": {
        "colab": {
          "base_uri": "https://localhost:8080/"
        },
        "id": "iEFK__gceiNr",
        "outputId": "995a5950-1b58-4a44-b0f6-e8c7749eebaa"
      },
      "execution_count": null,
      "outputs": [
        {
          "output_type": "stream",
          "name": "stdout",
          "text": [
            "(1, 5, 5, 'Machine Learning')\n"
          ]
        }
      ]
    },
    {
      "cell_type": "code",
      "source": [
        "tuple_3=tuple_1+tuple_2\n",
        "print(tuple_3)"
      ],
      "metadata": {
        "colab": {
          "base_uri": "https://localhost:8080/"
        },
        "id": "CiIGd_UgetCl",
        "outputId": "da4a2e69-569f-4aad-e15c-ffbdba00f93f"
      },
      "execution_count": null,
      "outputs": [
        {
          "output_type": "stream",
          "name": "stdout",
          "text": [
            "(1, 2, 3, 4, 1, 5, 5, 'Machine Learning')\n"
          ]
        }
      ]
    },
    {
      "cell_type": "markdown",
      "source": [
        "**Set**"
      ],
      "metadata": {
        "id": "PUpt7_L4gBxU"
      }
    },
    {
      "cell_type": "code",
      "source": [
        "set_1={1,2,3,4,5,5}\n",
        "print(set_1)"
      ],
      "metadata": {
        "colab": {
          "base_uri": "https://localhost:8080/"
        },
        "id": "0ZnpQ5RBez1q",
        "outputId": "0f7fcbbe-d335-4491-b949-b9051de56622"
      },
      "execution_count": null,
      "outputs": [
        {
          "output_type": "stream",
          "name": "stdout",
          "text": [
            "{1, 2, 3, 4, 5}\n"
          ]
        }
      ]
    },
    {
      "cell_type": "markdown",
      "source": [
        "Dictionary"
      ],
      "metadata": {
        "id": "io4qo1OpijvW"
      }
    },
    {
      "cell_type": "code",
      "source": [
        "my_dict={'name':'Banu','age':23,'country':'india'}\n",
        "print(my_dict)\n",
        "type(my_dict)"
      ],
      "metadata": {
        "colab": {
          "base_uri": "https://localhost:8080/"
        },
        "id": "3FmSlriRgaI0",
        "outputId": "2ccb0bd1-7260-41a7-aeaf-1fc233a435f2"
      },
      "execution_count": null,
      "outputs": [
        {
          "output_type": "stream",
          "name": "stdout",
          "text": [
            "{'name': 'Banu', 'age': 23, 'country': 'india'}\n"
          ]
        },
        {
          "output_type": "execute_result",
          "data": {
            "text/plain": [
              "dict"
            ]
          },
          "metadata": {},
          "execution_count": 18
        }
      ]
    },
    {
      "cell_type": "code",
      "source": [
        "print(my_dict['name'])\n",
        "print(my_dict['age'])\n",
        "print(my_dict['country'])"
      ],
      "metadata": {
        "colab": {
          "base_uri": "https://localhost:8080/"
        },
        "id": "7dxbfo1li08s",
        "outputId": "085152b0-d973-4b99-9c64-d5ca87b498b4"
      },
      "execution_count": null,
      "outputs": [
        {
          "output_type": "stream",
          "name": "stdout",
          "text": [
            "Banu\n",
            "23\n",
            "india\n"
          ]
        }
      ]
    },
    {
      "cell_type": "code",
      "source": [
        "my_dict_2={'name':'Banu','age':23,'country':'india','name':'shaik'}\n",
        "print(my_dict_2)"
      ],
      "metadata": {
        "colab": {
          "base_uri": "https://localhost:8080/"
        },
        "id": "h6KpXQKNjLp-",
        "outputId": "48c63dae-a0df-4a38-c748-dfa76b06349f"
      },
      "execution_count": null,
      "outputs": [
        {
          "output_type": "stream",
          "name": "stdout",
          "text": [
            "{'name': 'shaik', 'age': 23, 'country': 'india'}\n"
          ]
        }
      ]
    },
    {
      "cell_type": "markdown",
      "source": [
        "**Operators**"
      ],
      "metadata": {
        "id": "cbTNOhptKiuc"
      }
    },
    {
      "cell_type": "markdown",
      "source": [
        "1.Arthimetic operators"
      ],
      "metadata": {
        "id": "bySl4--TKpKT"
      }
    },
    {
      "cell_type": "code",
      "source": [
        "a=int(input(\"Enter the value of a \"))\n",
        "b=int(input(\"Enter the value of b \"))\n",
        "print(\"Addition : \", a+b)\n",
        "print(\"Subtraction : \", (a - b))\n",
        "print(\"Multiplication : \", a*b)\n",
        "print(\"Division : \", a/b)\n",
        "print(\"Modulo Division : \", a%b)\n",
        "print(\"Exponent : \",a**b)"
      ],
      "metadata": {
        "colab": {
          "base_uri": "https://localhost:8080/"
        },
        "id": "R3gTV_tIjZQp",
        "outputId": "ec485f71-8641-4006-8583-d905289ba38e"
      },
      "execution_count": null,
      "outputs": [
        {
          "output_type": "stream",
          "name": "stdout",
          "text": [
            "Enter the value of a 10\n",
            "Enter the value of b 20\n",
            "Addition :  30\n",
            "Subtraction :  -10\n",
            "Multiplication :  200\n",
            "Division :  0.5\n",
            "Modulo Division :  10\n",
            "Exponent :  100000000000000000000\n"
          ]
        }
      ]
    },
    {
      "cell_type": "markdown",
      "source": [
        "2.Assignment operators"
      ],
      "metadata": {
        "id": "gTTalAlbMFu3"
      }
    },
    {
      "cell_type": "code",
      "source": [
        "a=5\n",
        "print(a)\n",
        "a+=5\n",
        "print(a)\n",
        "a-=5\n",
        "print(a)\n",
        "a*=5\n",
        "print(a)\n",
        "a/=5\n",
        "print(a)\n",
        "a%=5\n",
        "print(a)\n",
        "a**=5\n",
        "print(a)"
      ],
      "metadata": {
        "colab": {
          "base_uri": "https://localhost:8080/"
        },
        "id": "gl7vAW3PLXTI",
        "outputId": "32bd7832-6b6f-4d48-8ac4-0ac3b9f8114e"
      },
      "execution_count": null,
      "outputs": [
        {
          "output_type": "stream",
          "name": "stdout",
          "text": [
            "5\n",
            "10\n",
            "5\n",
            "25\n",
            "5.0\n",
            "0.0\n",
            "0.0\n"
          ]
        }
      ]
    },
    {
      "cell_type": "code",
      "source": [
        "a=50\n",
        "print(a)\n",
        "a+=5\n",
        "print(a)\n",
        "a-=5\n",
        "print(a)\n",
        "a*=5\n",
        "print(a)\n",
        "a/=5\n",
        "print(a)\n",
        "a%=5\n",
        "print(a)\n",
        "a**=5\n",
        "print(a)"
      ],
      "metadata": {
        "colab": {
          "base_uri": "https://localhost:8080/"
        },
        "id": "hKo4KcOyMx2Z",
        "outputId": "f731651b-f5f5-42ee-bbb1-215140d216da"
      },
      "execution_count": null,
      "outputs": [
        {
          "output_type": "stream",
          "name": "stdout",
          "text": [
            "50\n",
            "55\n",
            "50\n",
            "250\n",
            "50.0\n",
            "0.0\n",
            "0.0\n"
          ]
        }
      ]
    },
    {
      "cell_type": "markdown",
      "source": [
        "3.Relational operators\n"
      ],
      "metadata": {
        "id": "Bq5k-IqKM9tw"
      }
    },
    {
      "cell_type": "code",
      "source": [
        "a=10\n",
        "b=20\n",
        "print(a>b)\n",
        "print(a>=b)\n",
        "print(a<b)\n",
        "print(a<=b)\n",
        "print(a==b)\n",
        "print(a!=b)"
      ],
      "metadata": {
        "colab": {
          "base_uri": "https://localhost:8080/"
        },
        "id": "DGEGNtq3M5o9",
        "outputId": "eae49149-4394-4e38-bfa2-7ec80948ad78"
      },
      "execution_count": null,
      "outputs": [
        {
          "output_type": "stream",
          "name": "stdout",
          "text": [
            "False\n",
            "False\n",
            "True\n",
            "True\n",
            "False\n",
            "True\n"
          ]
        }
      ]
    },
    {
      "cell_type": "markdown",
      "source": [
        "\n",
        "4.Logical operators"
      ],
      "metadata": {
        "id": "fgWMEfGsNOqH"
      }
    },
    {
      "cell_type": "code",
      "source": [
        "a=10\n",
        "b=20\n",
        "c=30\n",
        "print(a>b and a>c)\n",
        "print(a>b or a<c)\n",
        "print(not a>b)"
      ],
      "metadata": {
        "colab": {
          "base_uri": "https://localhost:8080/"
        },
        "id": "P-_BhmFYNMpt",
        "outputId": "342fc43d-b062-4c0f-ed57-5cde1f9d751d"
      },
      "execution_count": null,
      "outputs": [
        {
          "output_type": "stream",
          "name": "stdout",
          "text": [
            "False\n",
            "True\n",
            "True\n"
          ]
        }
      ]
    },
    {
      "cell_type": "markdown",
      "source": [
        "5.Identity operator"
      ],
      "metadata": {
        "id": "JKVCnth6Nr2Q"
      }
    },
    {
      "cell_type": "code",
      "source": [
        "a=5\n",
        "b=5\n",
        "print(a is b)\n",
        "print(a is not b)"
      ],
      "metadata": {
        "colab": {
          "base_uri": "https://localhost:8080/"
        },
        "id": "kYzzI_71NlNI",
        "outputId": "6c126db2-b1c5-462d-a60d-2b26bade4924"
      },
      "execution_count": null,
      "outputs": [
        {
          "output_type": "stream",
          "name": "stdout",
          "text": [
            "True\n",
            "False\n"
          ]
        }
      ]
    },
    {
      "cell_type": "markdown",
      "source": [
        "6.Membership operator"
      ],
      "metadata": {
        "id": "U0M_R5e_N2cp"
      }
    },
    {
      "cell_type": "code",
      "source": [
        "a=5\n",
        "b=10\n",
        "c=[1,2,3,4,5]\n",
        "print(a in c)\n",
        "print(b in c)"
      ],
      "metadata": {
        "colab": {
          "base_uri": "https://localhost:8080/"
        },
        "id": "BkSDp6pCN0r-",
        "outputId": "4bce78fe-c219-41f3-bb88-8f49401f331d"
      },
      "execution_count": null,
      "outputs": [
        {
          "output_type": "stream",
          "name": "stdout",
          "text": [
            "True\n",
            "False\n"
          ]
        }
      ]
    },
    {
      "cell_type": "markdown",
      "source": [
        "**Conditional Statements**"
      ],
      "metadata": {
        "id": "Oojyf5tGR41a"
      }
    },
    {
      "cell_type": "markdown",
      "source": [
        "1. Simple if"
      ],
      "metadata": {
        "id": "sB05Lpq6R94f"
      }
    },
    {
      "cell_type": "code",
      "source": [
        "a=int(input('Enter a value: '))\n",
        "b=int(input('Enter b value: '))\n",
        "if(a>b):\n",
        "  print(\"a is greater than b\")"
      ],
      "metadata": {
        "colab": {
          "base_uri": "https://localhost:8080/"
        },
        "id": "g1vh1kFQOD37",
        "outputId": "2c462aa9-fe55-4a01-af8d-63e961da64af"
      },
      "execution_count": null,
      "outputs": [
        {
          "output_type": "stream",
          "name": "stdout",
          "text": [
            "Enter a value: 2\n",
            "Enter b value: 1\n",
            "a is greater than b\n"
          ]
        }
      ]
    },
    {
      "cell_type": "markdown",
      "source": [
        "2.if-else"
      ],
      "metadata": {
        "id": "5UmIHVDHSbK2"
      }
    },
    {
      "cell_type": "code",
      "source": [
        "a=int(input('Enter a value: '))\n",
        "b=int(input('Enter b value: '))\n",
        "if(a>b):\n",
        "  print(a,\" is greatest number\")\n",
        "else:\n",
        "  print(b,\" is greatest number\")"
      ],
      "metadata": {
        "colab": {
          "base_uri": "https://localhost:8080/"
        },
        "id": "ve4cOIz0Sdmy",
        "outputId": "609d5240-b9ef-4fd5-d6ab-b21c47548512"
      },
      "execution_count": null,
      "outputs": [
        {
          "output_type": "stream",
          "name": "stdout",
          "text": [
            "Enter a value: 3\n",
            "Enter b value: 6\n",
            "6  is greatest number\n"
          ]
        }
      ]
    },
    {
      "cell_type": "markdown",
      "source": [
        "if-elif-else\n"
      ],
      "metadata": {
        "id": "8xbF-ToKS9rL"
      }
    },
    {
      "cell_type": "code",
      "source": [
        "a=int(input('Enter a value: '))\n",
        "b=int(input('Enter b value: '))\n",
        "c=int(input('Enter c value: '))\n",
        "if(a>b):\n",
        "  print(a,\" is greatest number\")\n",
        "elif b>c:\n",
        "   print(b,\" is greatest number\")\n",
        "else:\n",
        "  print(c,\" is greatest number\")"
      ],
      "metadata": {
        "colab": {
          "base_uri": "https://localhost:8080/"
        },
        "id": "K2iJeWa7TAlA",
        "outputId": "77321ba4-2383-47f7-be08-ea854b45f8e0"
      },
      "execution_count": null,
      "outputs": [
        {
          "output_type": "stream",
          "name": "stdout",
          "text": [
            "Enter a value: 1\n",
            "Enter b value: 2\n",
            "Enter c value: 3\n",
            "3  is greatest number\n"
          ]
        }
      ]
    },
    {
      "cell_type": "markdown",
      "source": [
        "4.Nested if\n"
      ],
      "metadata": {
        "id": "GYLoufnjTVEB"
      }
    },
    {
      "cell_type": "code",
      "source": [
        "a=int(input('Enter a value: '))\n",
        "b=int(input('Enter b value: '))\n",
        "c=int(input('Enter c value: '))\n",
        "if(a>b):\n",
        "  if(a>c):\n",
        "    print(a,\" is greatest number\")\n",
        "  else:\n",
        "    print(b,\" is greatest number\")\n",
        "else:\n",
        "  if(b>c):\n",
        "    print(b,\" is greatest number\")\n",
        "  else:\n",
        "    print(c,\" is greatest number\")"
      ],
      "metadata": {
        "colab": {
          "base_uri": "https://localhost:8080/"
        },
        "id": "ZY5OT_-ZTW-z",
        "outputId": "4c396a60-ada5-42d6-a0e0-c0b842af91b4"
      },
      "execution_count": null,
      "outputs": [
        {
          "output_type": "stream",
          "name": "stdout",
          "text": [
            "Enter a value: 10\n",
            "Enter b value: 20\n",
            "Enter c value: 30\n",
            "30  is greatest number\n"
          ]
        }
      ]
    },
    {
      "cell_type": "markdown",
      "source": [
        "**Loops**"
      ],
      "metadata": {
        "id": "IL4kCINoADo5"
      }
    },
    {
      "cell_type": "markdown",
      "source": [
        "1.for loop"
      ],
      "metadata": {
        "id": "zE83TSG-AIMT"
      }
    },
    {
      "cell_type": "code",
      "source": [
        "# print numbers 1 to 10\n",
        "for i in range(10):\n",
        "  print(i+1,end=\" \")"
      ],
      "metadata": {
        "colab": {
          "base_uri": "https://localhost:8080/"
        },
        "id": "bIeD8CQqAGYg",
        "outputId": "23199a6c-e159-4390-9e1e-b117fdd32d94"
      },
      "execution_count": null,
      "outputs": [
        {
          "output_type": "stream",
          "name": "stdout",
          "text": [
            "1 2 3 4 5 6 7 8 9 10 "
          ]
        }
      ]
    },
    {
      "cell_type": "code",
      "source": [
        "# print numbers 1 to n\n",
        "n=int(input())\n",
        "for i in range(n):\n",
        "  print(i+1,end=\" \")"
      ],
      "metadata": {
        "colab": {
          "base_uri": "https://localhost:8080/"
        },
        "id": "1vspmTlDAVkk",
        "outputId": "3a98a47b-a517-4428-c300-a8f0a973c215"
      },
      "execution_count": null,
      "outputs": [
        {
          "output_type": "stream",
          "name": "stdout",
          "text": [
            "50\n",
            "1 2 3 4 5 6 7 8 9 10 11 12 13 14 15 16 17 18 19 20 21 22 23 24 25 26 27 28 29 30 31 32 33 34 35 36 37 38 39 40 41 42 43 44 45 46 47 48 49 50 "
          ]
        }
      ]
    },
    {
      "cell_type": "markdown",
      "source": [
        "2.While loop"
      ],
      "metadata": {
        "id": "C2Uz2Af3Aj-j"
      }
    },
    {
      "cell_type": "code",
      "source": [
        "n=int(input())\n",
        "i=0\n",
        "while i<10:\n",
        "  print(i+1,end=\" \")\n",
        "  i=i+1"
      ],
      "metadata": {
        "id": "K1gcXGGQA6Qt",
        "colab": {
          "base_uri": "https://localhost:8080/"
        },
        "outputId": "1b3a86f8-b313-4b8e-ba5f-d3ebdddabd03"
      },
      "execution_count": 4,
      "outputs": [
        {
          "output_type": "stream",
          "name": "stdout",
          "text": [
            "10\n",
            "1 2 3 4 5 6 7 8 9 10 "
          ]
        }
      ]
    },
    {
      "cell_type": "markdown",
      "source": [
        "**Functions**"
      ],
      "metadata": {
        "id": "6M9ZIHkXFOtz"
      }
    },
    {
      "cell_type": "markdown",
      "source": [
        "Factorial of a number"
      ],
      "metadata": {
        "id": "C0MqQdLhFS2F"
      }
    },
    {
      "cell_type": "code",
      "source": [
        "num=int(input('Enter a number : '))\n",
        "fact=1\n",
        "\n",
        "if(num==0):\n",
        "  print('factorial of o is 1')\n",
        "else:\n",
        "  for i in range(1,num+1):\n",
        "    fact=fact*i\n",
        "print(fact)"
      ],
      "metadata": {
        "colab": {
          "base_uri": "https://localhost:8080/"
        },
        "id": "9hRHqB8sFRDW",
        "outputId": "8ff421b7-6092-4a65-e09c-dfcd061b4dfc"
      },
      "execution_count": 7,
      "outputs": [
        {
          "output_type": "stream",
          "name": "stdout",
          "text": [
            "Enter a number : 0\n",
            "factorial of o is 1\n",
            "1\n"
          ]
        }
      ]
    },
    {
      "cell_type": "code",
      "source": [
        "def factorial(num):\n",
        "  fact=1\n",
        "\n",
        "  if(num==0):\n",
        "    print('factorial of o is 1')\n",
        "  else:\n",
        "    for i in range(1,num+1):\n",
        "      fact=fact*i\n",
        "    return fact\n",
        "num=int(input('Enter a number : '))\n",
        "print(factorial(num))\n"
      ],
      "metadata": {
        "colab": {
          "base_uri": "https://localhost:8080/"
        },
        "id": "6jQIt5yzFsH8",
        "outputId": "b5d418fe-0a7c-463b-97c3-74ef132f8caf"
      },
      "execution_count": 10,
      "outputs": [
        {
          "output_type": "stream",
          "name": "stdout",
          "text": [
            "Enter a number : 7\n",
            "5040\n"
          ]
        }
      ]
    },
    {
      "cell_type": "code",
      "source": [],
      "metadata": {
        "id": "VXiUe8kcGUyr"
      },
      "execution_count": null,
      "outputs": []
    }
  ]
}